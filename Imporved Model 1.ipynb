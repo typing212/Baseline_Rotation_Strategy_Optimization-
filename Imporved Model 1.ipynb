{
 "cells": [
  {
   "cell_type": "code",
   "execution_count": 49,
   "metadata": {},
   "outputs": [],
   "source": [
    "import pandas as pd\n",
    "import numpy as np"
   ]
  },
  {
   "cell_type": "code",
   "execution_count": 50,
   "metadata": {},
   "outputs": [
    {
     "name": "stdout",
     "output_type": "stream",
     "text": [
      "    selected                 Player Pos  Fantasy_point  Time_limit\n",
      "0          1         Andre Iguodala   G           3.67       20.53\n",
      "1          1         Andrew Wiggins   F           2.48       32.27\n",
      "2          1          Chris Chiozza   G           2.04       19.50\n",
      "3          1             Damion Lee   G           2.01       24.00\n",
      "4          1         Draymond Green   F           4.14       30.13\n",
      "5          1         Gary Payton II   G           2.52       15.90\n",
      "6          0            Jeff Dowtin   G          -0.59       22.10\n",
      "7          1       Jonathan Kuminga   C          -0.24       19.90\n",
      "8          1           Jordan Poole   G           2.38       23.50\n",
      "9          0  Juan Toscano-Anderson   F           0.19       18.53\n",
      "10         1           Kevon Looney   C           1.19       16.90\n",
      "11         0            Moses Moody   G          -0.12       21.10\n",
      "12         1        Nemanja Bjelica   C           4.26       19.70\n",
      "13         1        Otto Porter Jr.   F           3.40       20.83\n",
      "14         1          Stephen Curry   G           4.30       31.90\n"
     ]
    }
   ],
   "source": [
    "df_DAL = pd.read_csv(\"DAL_player_sl.csv\")\n",
    "df_LAL = pd.read_csv(\"LAL_player_sl.csv\")\n",
    "df_GSW = pd.read_csv(\"GSW_player_sl.csv\")\n",
    "print(df_GSW)"
   ]
  },
  {
   "cell_type": "code",
   "execution_count": 51,
   "metadata": {},
   "outputs": [],
   "source": [
    "df = df_GSW.iloc[:,:]"
   ]
  },
  {
   "cell_type": "code",
   "execution_count": 52,
   "metadata": {},
   "outputs": [
    {
     "data": {
      "text/html": [
       "<div>\n",
       "<style scoped>\n",
       "    .dataframe tbody tr th:only-of-type {\n",
       "        vertical-align: middle;\n",
       "    }\n",
       "\n",
       "    .dataframe tbody tr th {\n",
       "        vertical-align: top;\n",
       "    }\n",
       "\n",
       "    .dataframe thead th {\n",
       "        text-align: right;\n",
       "    }\n",
       "</style>\n",
       "<table border=\"1\" class=\"dataframe\">\n",
       "  <thead>\n",
       "    <tr style=\"text-align: right;\">\n",
       "      <th></th>\n",
       "      <th>selected</th>\n",
       "      <th>Player</th>\n",
       "      <th>Pos</th>\n",
       "      <th>Fantasy_point</th>\n",
       "      <th>Time_limit</th>\n",
       "    </tr>\n",
       "  </thead>\n",
       "  <tbody>\n",
       "    <tr>\n",
       "      <th>0</th>\n",
       "      <td>1</td>\n",
       "      <td>Andre Iguodala</td>\n",
       "      <td>G</td>\n",
       "      <td>3.67</td>\n",
       "      <td>20.53</td>\n",
       "    </tr>\n",
       "    <tr>\n",
       "      <th>1</th>\n",
       "      <td>1</td>\n",
       "      <td>Andrew Wiggins</td>\n",
       "      <td>F</td>\n",
       "      <td>2.48</td>\n",
       "      <td>32.27</td>\n",
       "    </tr>\n",
       "    <tr>\n",
       "      <th>2</th>\n",
       "      <td>1</td>\n",
       "      <td>Chris Chiozza</td>\n",
       "      <td>G</td>\n",
       "      <td>2.04</td>\n",
       "      <td>19.50</td>\n",
       "    </tr>\n",
       "    <tr>\n",
       "      <th>3</th>\n",
       "      <td>1</td>\n",
       "      <td>Damion Lee</td>\n",
       "      <td>G</td>\n",
       "      <td>2.01</td>\n",
       "      <td>24.00</td>\n",
       "    </tr>\n",
       "    <tr>\n",
       "      <th>4</th>\n",
       "      <td>1</td>\n",
       "      <td>Draymond Green</td>\n",
       "      <td>F</td>\n",
       "      <td>4.14</td>\n",
       "      <td>30.13</td>\n",
       "    </tr>\n",
       "    <tr>\n",
       "      <th>5</th>\n",
       "      <td>1</td>\n",
       "      <td>Gary Payton II</td>\n",
       "      <td>G</td>\n",
       "      <td>2.52</td>\n",
       "      <td>15.90</td>\n",
       "    </tr>\n",
       "    <tr>\n",
       "      <th>6</th>\n",
       "      <td>1</td>\n",
       "      <td>Jonathan Kuminga</td>\n",
       "      <td>C</td>\n",
       "      <td>-0.24</td>\n",
       "      <td>19.90</td>\n",
       "    </tr>\n",
       "    <tr>\n",
       "      <th>7</th>\n",
       "      <td>1</td>\n",
       "      <td>Jordan Poole</td>\n",
       "      <td>G</td>\n",
       "      <td>2.38</td>\n",
       "      <td>23.50</td>\n",
       "    </tr>\n",
       "    <tr>\n",
       "      <th>8</th>\n",
       "      <td>1</td>\n",
       "      <td>Kevon Looney</td>\n",
       "      <td>C</td>\n",
       "      <td>1.19</td>\n",
       "      <td>16.90</td>\n",
       "    </tr>\n",
       "    <tr>\n",
       "      <th>9</th>\n",
       "      <td>1</td>\n",
       "      <td>Nemanja Bjelica</td>\n",
       "      <td>C</td>\n",
       "      <td>4.26</td>\n",
       "      <td>19.70</td>\n",
       "    </tr>\n",
       "    <tr>\n",
       "      <th>10</th>\n",
       "      <td>1</td>\n",
       "      <td>Otto Porter Jr.</td>\n",
       "      <td>F</td>\n",
       "      <td>3.40</td>\n",
       "      <td>20.83</td>\n",
       "    </tr>\n",
       "    <tr>\n",
       "      <th>11</th>\n",
       "      <td>1</td>\n",
       "      <td>Stephen Curry</td>\n",
       "      <td>G</td>\n",
       "      <td>4.30</td>\n",
       "      <td>31.90</td>\n",
       "    </tr>\n",
       "  </tbody>\n",
       "</table>\n",
       "</div>"
      ],
      "text/plain": [
       "    selected            Player Pos  Fantasy_point  Time_limit\n",
       "0          1    Andre Iguodala   G           3.67       20.53\n",
       "1          1    Andrew Wiggins   F           2.48       32.27\n",
       "2          1     Chris Chiozza   G           2.04       19.50\n",
       "3          1        Damion Lee   G           2.01       24.00\n",
       "4          1    Draymond Green   F           4.14       30.13\n",
       "5          1    Gary Payton II   G           2.52       15.90\n",
       "6          1  Jonathan Kuminga   C          -0.24       19.90\n",
       "7          1      Jordan Poole   G           2.38       23.50\n",
       "8          1      Kevon Looney   C           1.19       16.90\n",
       "9          1   Nemanja Bjelica   C           4.26       19.70\n",
       "10         1   Otto Porter Jr.   F           3.40       20.83\n",
       "11         1     Stephen Curry   G           4.30       31.90"
      ]
     },
     "execution_count": 52,
     "metadata": {},
     "output_type": "execute_result"
    }
   ],
   "source": [
    "df = df.drop([6,9,11])\n",
    "df.reset_index(drop=True, inplace=True)\n",
    "df"
   ]
  },
  {
   "cell_type": "code",
   "execution_count": 53,
   "metadata": {},
   "outputs": [],
   "source": [
    "z = []\n",
    "p = []\n",
    "for i in range(len(df)):\n",
    "    if df.iloc[i,2] == 'G':\n",
    "        z.append([1,0,0])\n",
    "        p.append([min(df.iloc[i,4]*1.5,48),0,0])\n",
    "    elif df.iloc[i,2] == 'F':\n",
    "        z.append([0,1,0])\n",
    "        p.append([0,min(df.iloc[i,4]*1.5,48),0])\n",
    "    else: \n",
    "        z.append([0,0,1])\n",
    "        p.append([0,0,min(df.iloc[i,4]*1.5,48)])\n"
   ]
  },
  {
   "cell_type": "code",
   "execution_count": 54,
   "metadata": {},
   "outputs": [],
   "source": [
    "F = df[\"Fantasy_point\"].to_list()"
   ]
  },
  {
   "cell_type": "code",
   "execution_count": 55,
   "metadata": {},
   "outputs": [
    {
     "name": "stdout",
     "output_type": "stream",
     "text": [
      "[3.67, 2.48, 2.04, 2.01, 4.14, 2.52, -0.24, 2.38, 1.19, 4.26, 3.4, 4.3]\n",
      "z: [[1, 0, 0], [0, 1, 0], [1, 0, 0], [1, 0, 0], [0, 1, 0], [1, 0, 0], [0, 0, 1], [1, 0, 0], [0, 0, 1], [0, 0, 1], [0, 1, 0], [1, 0, 0]] \n",
      "\n",
      "p: [[30.795, 0, 0], [0, 48, 0], [29.25, 0, 0], [36.0, 0, 0], [0, 45.195, 0], [23.85, 0, 0], [0, 0, 29.849999999999998], [35.25, 0, 0], [0, 0, 25.349999999999998], [0, 0, 29.549999999999997], [0, 31.244999999999997, 0], [47.849999999999994, 0, 0]]\n"
     ]
    }
   ],
   "source": [
    "print(F)\n",
    "print(\"z:\",z,\"\\n\")\n",
    "print(\"p:\",p)"
   ]
  },
  {
   "cell_type": "code",
   "execution_count": 56,
   "metadata": {},
   "outputs": [
    {
     "name": "stdout",
     "output_type": "stream",
     "text": [
      "no: [1, 3, 4, 6, 8, 12] \t [2, 5, 11] \t [7, 9, 10] \n",
      "\n",
      "F: [3.67, 2.04, 2.01, 2.52, 2.38, 4.3] \t [2.48, 4.14, 3.4] \t [-0.24, 1.19, 4.26] \n",
      "\n",
      "s: [0.11917519077772365, 0.06974358974358974, 0.055833333333333325, 0.10566037735849056, 0.0675177304964539, 0.08986415882967608] \t [0.05123437661398616, 0.09160305343511449, 0.10881741078572572] \t [0.2, 0.04694280078895464, 0.14416243654822336] \n",
      "\n"
     ]
    }
   ],
   "source": [
    "# separate data into 3 groups based on the position\n",
    "# z_gp1 = []\n",
    "# z_gp2 = []\n",
    "# z_gp3 = []\n",
    "p_gp1 = []\n",
    "p_gp2 = []\n",
    "p_gp3 = []\n",
    "no_gp1 = []\n",
    "no_gp2 = []\n",
    "no_gp3 = []\n",
    "F_gp1 = []\n",
    "F_gp2 = []\n",
    "F_gp3 = []\n",
    "s_gp1 = []\n",
    "s_gp2 = []\n",
    "s_gp3 = []\n",
    "for i in range(len(df)):\n",
    "    if df.iloc[i,2] == 'G':\n",
    "\n",
    "        no_gp1.append(i+1)\n",
    "        F_gp1.append(F[i])\n",
    "        if F[i] >= 0:\n",
    "            s_gp1.append(F[i]/(df.iloc[i,4]*1.5))\n",
    "        else:\n",
    "            s_gp1.append(0.2)\n",
    "    elif df.iloc[i,2] == 'F':\n",
    " \n",
    "        no_gp2.append(i+1) \n",
    "        F_gp2.append(F[i])\n",
    "        if F[i] >= 0:\n",
    "            s_gp2.append(F[i]/(df.iloc[i,4]*1.5))\n",
    "        else:\n",
    "            s_gp2.append(0.2)\n",
    "    else:\n",
    "\n",
    "        no_gp3.append(i+1)\n",
    "        F_gp3.append(F[i])\n",
    "        if F[i] >= 0:\n",
    "            s_gp3.append(F[i]/(df.iloc[i,4]*1.5))\n",
    "        else:\n",
    "            s_gp3.append(0.2)\n",
    "\n",
    "print(\"no:\",no_gp1,\"\\t\",no_gp2,\"\\t\",no_gp3,\"\\n\")\n",
    "print(\"F:\",F_gp1,\"\\t\",F_gp2,\"\\t\",F_gp3,\"\\n\")\n",
    "print(\"s:\",s_gp1,\"\\t\",s_gp2,\"\\t\",s_gp3,\"\\n\")\n"
   ]
  },
  {
   "cell_type": "code",
   "execution_count": 57,
   "metadata": {},
   "outputs": [
    {
     "name": "stdout",
     "output_type": "stream",
     "text": [
      "79.6674668348701\n",
      "[10, 10, 10, 10, 10, 10, 10, 10, 10, 10, 10, 10, 10, 10, 10, 10, 10, 10, 10, 10, 10, 10, 9, 9, 9, 10, 9, 9, 9, 10, 9, 9, 9, 10, 9, 9, 9, 10, 9, 9, 9, 10, 9, 9, 9, 10, 9, 9]\n"
     ]
    }
   ],
   "source": [
    "# take center as an example\n",
    "# improved 1\n",
    "I = 48\n",
    "pos = []\n",
    "reward = 0\n",
    "for t in range(I):\n",
    "    choose = 0\n",
    "    opt = -10000\n",
    "    for i in range(len(F_gp3)):\n",
    "        if opt < F_gp3[i]:\n",
    "            opt = F_gp3[i]\n",
    "            choose = i\n",
    "    pos.append(no_gp3[choose])\n",
    "    F_gp3[choose] = F_gp3[choose] - s_gp3[choose]\n",
    "    reward = reward + opt\n",
    "print(reward)\n",
    "print(pos)"
   ]
  },
  {
   "cell_type": "code",
   "execution_count": 58,
   "metadata": {},
   "outputs": [
    {
     "name": "stdout",
     "output_type": "stream",
     "text": [
      "200.1046578960497\n",
      "[[5, 11], [5, 11], [5, 11], [5, 11], [5, 11], [5, 11], [5, 11], [5, 11], [5, 11], [2, 5], [2, 5], [5, 11], [2, 5], [2, 5], [5, 11], [2, 5], [2, 5], [5, 11], [2, 5], [2, 5], [5, 11], [2, 5], [2, 5], [5, 11], [2, 5], [2, 11], [2, 5], [2, 11], [2, 5], [2, 5], [2, 11], [2, 5], [2, 11], [2, 5], [2, 11], [2, 5], [2, 11], [2, 5], [2, 11], [2, 5], [2, 5], [2, 11], [2, 5], [2, 11], [2, 5], [2, 11], [2, 5], [2, 11]]\n"
     ]
    }
   ],
   "source": [
    "# take forward as an example\n",
    "# improved 1\n",
    "I = 48\n",
    "pos2 = []\n",
    "\n",
    "reward = 0\n",
    "for t in range(I):\n",
    "    choose = [0, 0]\n",
    "    opt = -10000\n",
    "    for i in range(len(F_gp2)):\n",
    "        for j in range(i+1, len(F_gp2)):\n",
    "            if opt < F_gp2[i]+F_gp2[j]:\n",
    "                opt = F_gp2[i]+F_gp2[j]\n",
    "                choose = [i,j]   \n",
    "    pos2.append([no_gp2[choose[0]],no_gp2[choose[1]]])\n",
    "    F_gp2[choose[0]] = F_gp2[choose[0]] - s_gp2[choose[0]]\n",
    "    F_gp2[choose[1]] = F_gp2[choose[1]] - s_gp2[choose[1]]  \n",
    "    reward = reward + opt\n",
    "print(reward)\n",
    "print(pos2)"
   ]
  },
  {
   "cell_type": "code",
   "execution_count": 59,
   "metadata": {},
   "outputs": [
    {
     "name": "stdout",
     "output_type": "stream",
     "text": [
      "226.3513828034931\n",
      "[[1, 12], [1, 12], [1, 12], [1, 12], [1, 12], [1, 12], [1, 12], [1, 12], [1, 12], [1, 12], [6, 12], [1, 12], [6, 12], [8, 12], [1, 12], [8, 12], [6, 12], [8, 12], [1, 12], [6, 12], [8, 12], [1, 12], [8, 12], [6, 12], [8, 12], [3, 12], [1, 4], [6, 8], [3, 12], [4, 8], [3, 4], [1, 6], [4, 12], [3, 8], [4, 12], [6, 8], [1, 3], [4, 8], [3, 12], [4, 6], [1, 8], [3, 4], [8, 12], [4, 6], [1, 3], [4, 12], [3, 8], [4, 6]]\n"
     ]
    }
   ],
   "source": [
    "# take guard as an example\n",
    "# improved 1\n",
    "I = 48\n",
    "pos3 = []\n",
    "\n",
    "reward = 0\n",
    "for t in range(I):\n",
    "    choose = [0, 0]\n",
    "    opt = -10000\n",
    "    for i in range(len(F_gp1)):\n",
    "        for j in range(i+1, len(F_gp1)):\n",
    "            if opt < F_gp1[i]+F_gp1[j]:\n",
    "                opt = F_gp1[i]+F_gp1[j]\n",
    "                choose = [i,j]   \n",
    "    pos3.append([no_gp1[choose[0]],no_gp1[choose[1]]])\n",
    "    F_gp1[choose[0]] = F_gp1[choose[0]] - s_gp1[choose[0]]\n",
    "    F_gp1[choose[1]] = F_gp1[choose[1]] - s_gp1[choose[1]]  \n",
    "    reward = reward + opt\n",
    "print(reward)\n",
    "print(pos3)"
   ]
  },
  {
   "cell_type": "code",
   "execution_count": null,
   "metadata": {},
   "outputs": [],
   "source": [
    "\n"
   ]
  },
  {
   "cell_type": "code",
   "execution_count": null,
   "metadata": {},
   "outputs": [],
   "source": []
  }
 ],
 "metadata": {
  "kernelspec": {
   "display_name": "Python 3",
   "language": "python",
   "name": "python3"
  },
  "language_info": {
   "codemirror_mode": {
    "name": "ipython",
    "version": 3
   },
   "file_extension": ".py",
   "mimetype": "text/x-python",
   "name": "python",
   "nbconvert_exporter": "python",
   "pygments_lexer": "ipython3",
   "version": "3.7.4"
  }
 },
 "nbformat": 4,
 "nbformat_minor": 5
}
